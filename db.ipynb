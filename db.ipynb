{
 "cells": [
  {
   "cell_type": "code",
   "execution_count": 3,
   "id": "54d2007a",
   "metadata": {},
   "outputs": [
    {
     "data": {
      "text/plain": [
       "True"
      ]
     },
     "execution_count": 3,
     "metadata": {},
     "output_type": "execute_result"
    }
   ],
   "source": [
    "import duckdb\n",
    "import os\n",
    "from dotenv import load_dotenv\n",
    "load_dotenv()"
   ]
  },
  {
   "cell_type": "code",
   "execution_count": 5,
   "id": "f8db3ecd",
   "metadata": {},
   "outputs": [],
   "source": [
    "with duckdb.connect(\"db.duckdb\") as con:\n",
    "    con.execute(\"INSTALL mysql;\")\n",
    "    con.execute(\"LOAD mysql;\")\n",
    "    con.execute(f\"ATTACH 'host={os.getenv('DB_HOST')} user={os.getenv('DB_USER')} port={os.getenv('DB_PORT')} database={os.getenv('DB_NAME')} password={os.getenv('DB_PASSWORD')}' AS mysql_db (TYPE mysql, READ_ONLY);\")\n",
    "    con.execute(\"USE mysql_db;\")\n",
    "    con.execute(\"COPY (Select * from analytic_test_booking) TO 'output.parquet' (FORMAT parquet);\")\n",
    "    # print(result)  # Output: [(1,)]"
   ]
  }
 ],
 "metadata": {
  "kernelspec": {
   "display_name": "Python 3",
   "language": "python",
   "name": "python3"
  },
  "language_info": {
   "codemirror_mode": {
    "name": "ipython",
    "version": 3
   },
   "file_extension": ".py",
   "mimetype": "text/x-python",
   "name": "python",
   "nbconvert_exporter": "python",
   "pygments_lexer": "ipython3",
   "version": "3.9.10"
  }
 },
 "nbformat": 4,
 "nbformat_minor": 5
}
